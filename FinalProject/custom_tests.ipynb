{
 "cells": [
  {
   "cell_type": "code",
   "execution_count": 13,
   "metadata": {},
   "outputs": [],
   "source": [
    "import import_ipynb\n",
    "import PHYS321_Final_Project\n",
    "from PHYS321_Final_Project import *\n",
    "import unittest\n",
    "import nose.tools as nt\n",
    "import numpy as np\n",
    "import tools\n",
    "import numpy as np\n",
    "from scipy.stats import norm\n",
    "import statistics\n",
    "from math import isclose\n",
    "import math\n"
   ]
  },
  {
   "cell_type": "markdown",
   "metadata": {},
   "source": [
    "#Testing if posterior_2 calculates correctly the postrior as more data is addded. It does this by first calculating the distributions for life found at 1,2,3, and then multiplying them together manually. We do the same by calling our fuction, and they both should be equal i.e you should get 0 when you subtract them. "
   ]
  },
  {
   "cell_type": "code",
   "execution_count": 14,
   "metadata": {},
   "outputs": [
    {
     "name": "stdout",
     "output_type": "stream",
     "text": [
      "Passed test for posterior calculation\n"
     ]
    }
   ],
   "source": [
    "def checkPosteriorCalculation():\n",
    "        #eg find life at 1,2,3 at multiply it seperately, given by post\n",
    "        x = np.linspace(0,2,1000)\n",
    "        dx = x[1]-x[0]\n",
    "        y1 =  life([1], x)\n",
    "        y2 =  life([2], x)\n",
    "        y3 = life([3], x)\n",
    "        post = y1*y2*y3\n",
    "        norm_post = post/(np.sum(post*dx))\n",
    "        #call our function on similar values and subtrat from manually multiplied post, functions should get 0 \n",
    "        yy = norm_post - posterior_2([1,2,3], [], x)\n",
    "        if (np.sum(yy == 0 )):\n",
    "            print(\"Passed test for posterior calculation\")\n",
    "        else:\n",
    "            print(\"Failed test for posterior calculation\")\n",
    "\n",
    "checkPosteriorCalculation()"
   ]
  },
  {
   "cell_type": "markdown",
   "metadata": {},
   "source": [
    "#Checking if our function find_peak finds the correct peak. We do this by making a dumy gaussian centered at 0. We then call out function to caclculate the peak, it should be 0"
   ]
  },
  {
   "cell_type": "code",
   "execution_count": 31,
   "metadata": {},
   "outputs": [
    {
     "name": "stdout",
     "output_type": "stream",
     "text": [
      "Passed test for finding peak\n"
     ]
    }
   ],
   "source": [
    "def checkPeak():\n",
    "        #MAKE dummy function to test peak, over here we ake gaussian centered at 0\n",
    "        # Plot between -10 and 10 with .001 steps.\n",
    "        x_axis = np.arange(-20, 20, 0.01)\n",
    "\n",
    "        # Calculating mean and standard deviation\n",
    "        mean = statistics.mean(x_axis)\n",
    "        sd = statistics.stdev(x_axis)\n",
    "        y = find_peak(norm.pdf(x_axis, mean, sd))\n",
    "        if (y == 0 ):\n",
    "            print(\"Passed test for finding peak\")\n",
    "        else:\n",
    "            print(\"Failed test for finding peak\")\n",
    "checkPeak()      "
   ]
  },
  {
   "cell_type": "markdown",
   "metadata": {},
   "source": [
    "#Checking our RateParameter function. We pass some different amounts of tests for "
   ]
  },
  {
   "cell_type": "code",
   "execution_count": 30,
   "metadata": {},
   "outputs": [
    {
     "name": "stdout",
     "output_type": "stream",
     "text": [
      "Passed test for Rate Parameter\n"
     ]
    }
   ],
   "source": [
    "def RateParameter():\n",
    "        # Define a dew common variables\n",
    "        # max_lambda = 1.2599210498948732\n",
    "        bool = True\n",
    "        #should return 1.2599210498948732\n",
    "        if (math.isclose(step_fn(1, 1.1), 1.2599210498948732) != True):\n",
    "            bool = False\n",
    "        #should return 0\n",
    "        if (step_fn(1, 0.9) != 0):\n",
    "            bool = False\n",
    "        #should print 9\n",
    "        if (linear_fn(1, 0.9,10) != 9):\n",
    "            bool = False\n",
    "        #should print 1.2599210498948732\n",
    "        if ( math.isclose(linear_fn(1, 1.1,10), 1.2599210498948732) != True):\n",
    "            bool = False\n",
    "        #should print 2.5\n",
    "        if (exp_fn(1, 0.5,10) != 2.5):\n",
    "            bool = False\n",
    "        #should print 1.2599210498948732\n",
    "        if (math.isclose(exp_fn(1, 1,10), 1.2599210498948732) != True):\n",
    "            bool = False\n",
    "        if(bool == False):\n",
    "            print(\"Failed test for Rate Parameter\")\n",
    "        else:\n",
    "            print(\"Passed test for Rate Parameter\")\n",
    "RateParameter()"
   ]
  },
  {
   "cell_type": "code",
   "execution_count": null,
   "metadata": {},
   "outputs": [],
   "source": []
  }
 ],
 "metadata": {
  "kernelspec": {
   "display_name": "Python 3",
   "language": "python",
   "name": "python3"
  },
  "language_info": {
   "codemirror_mode": {
    "name": "ipython",
    "version": 3
   },
   "file_extension": ".py",
   "mimetype": "text/x-python",
   "name": "python",
   "nbconvert_exporter": "python",
   "pygments_lexer": "ipython3",
   "version": "3.7.3"
  }
 },
 "nbformat": 4,
 "nbformat_minor": 4
}
