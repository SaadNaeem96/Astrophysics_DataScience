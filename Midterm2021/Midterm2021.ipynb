{
 "cells": [
  {
   "cell_type": "markdown",
   "metadata": {},
   "source": [
    "# PHYS 321 Midterm 2021"
   ]
  },
  {
   "cell_type": "markdown",
   "metadata": {},
   "source": [
    "This midterm exam is an open-book, open-resource exam. However, you may not collaborate with anyone. Please send clarification questions and hint requests to me at [adrian.liu@mcgill.ca](mailto:adrian.liu2@mcgill.ca). Submission is via Github (more details below). The exam is due at 11:59:59 Eastern on February 25th, 2020.\n",
    "\n",
    "You may copy and paste code from your previous assignments, but __you must cite your sources__. E.g., if you want to use a function that you wrote in Coding Lab 02, please include the comment \"this function was copied from Coding Lab 02\"\n",
    "\n",
    "For questions that are more algebraic or conceptual, you may either: 1) type your answer here, 2) do your work on paper and scan it, or 3) write up your answer in a separate pdf document. If you decide to go with option 2 or 3 on any particular question, be sure to let us know which document to look at. (Or with option 2 you can also embed the image file in the notebook itself)."
   ]
  },
  {
   "cell_type": "markdown",
   "metadata": {},
   "source": [
    "## Question 1"
   ]
  },
  {
   "cell_type": "markdown",
   "metadata": {},
   "source": [
    "Place all of the midterm files in a folder within your Github repo. Then:"
   ]
  },
  {
   "cell_type": "markdown",
   "metadata": {},
   "source": [
    "__a)__ Perform an initial commit locally and push to your Github repo. Write down the commands you used below."
   ]
  },
  {
   "cell_type": "markdown",
   "metadata": {},
   "source": [
    "# Your answer here\n",
    "git status\n",
    "\n",
    "git add Midterm2021\\\n",
    "\n",
    "git commit -m \"first commit\"\n",
    "\n",
    "git push origin main\n"
   ]
  },
  {
   "cell_type": "markdown",
   "metadata": {},
   "source": [
    "__b)__ Create a file named ``secret_treasure.txt``. Commit it. Now create a new branch. Write down the commands that you used."
   ]
  },
  {
   "cell_type": "markdown",
   "metadata": {},
   "source": [
    "\n",
    "## Your answer here\n",
    "type nul > secret_treasure.txt\n",
    "\n",
    "git status\n",
    "\n",
    "git add secret_treasure.txt\n",
    "\n",
    "git commit -m \"secret treasure\"\n",
    "\n",
    "git checkout -b newb"
   ]
  },
  {
   "cell_type": "markdown",
   "metadata": {},
   "source": [
    "__c)__ Add the text ``I'm a Bayesian`` to the file in this new branch. In your old branch, add the text ``I'm a Frequentist``. Write down the commands that you used."
   ]
  },
  {
   "cell_type": "markdown",
   "metadata": {},
   "source": [
    "## Your answer here\n",
    "secret_treasure.txt\n",
    "\n",
    "I'm a Bayesian\n",
    "\n",
    "git checkout main\n",
    "\n",
    "I'm a Frequentist\n"
   ]
  },
  {
   "cell_type": "markdown",
   "metadata": {},
   "source": [
    "__d)__ Merge the changes from your new branch to your old branch. If you get a merge conflict, deal with it in whatever way you want. Write down the commands that you used."
   ]
  },
  {
   "cell_type": "markdown",
   "metadata": {},
   "source": [
    "## Your answer here\n",
    "git merge newb\n",
    "\n",
    "git add secret_treasure.txt\n",
    "\n",
    "git commit -m \"added text\"\n",
    "\n",
    "git push origin main"
   ]
  },
  {
   "cell_type": "markdown",
   "metadata": {},
   "source": [
    "Push your local changes to your Github repo to complete this problem."
   ]
  },
  {
   "cell_type": "markdown",
   "metadata": {},
   "source": [
    "## Question 2"
   ]
  },
  {
   "cell_type": "markdown",
   "metadata": {},
   "source": [
    "In Coding Lab 01, we discussed how the sidereal day is shorter than a solar day by 4 minutes. Is it possible for the sidereal day on some planet to be __longer__ than the solar day? Explain. If it's helpful, you may include a diagram of some sort."
   ]
  },
  {
   "cell_type": "markdown",
   "metadata": {},
   "source": [
    "## Your answer here\n",
    "Yes!\n",
    "A sidereal day corrsponds to the complete rotation about a planet's axis w.r.t distant stars, while the solar day correpsonds to the sun. If the rotation of a planet about its axis happens on the oppoiste direction to is orbital motion, then the sidereal day is longer than the solar day.\n",
    "\n",
    "This is seen in the planet Venus actually, where it has a sidereal day of 243 days and a solar day of 116 days (in earth days).\n",
    "\n"
   ]
  },
  {
   "cell_type": "markdown",
   "metadata": {},
   "source": [
    "## Question 3"
   ]
  },
  {
   "cell_type": "markdown",
   "metadata": {},
   "source": [
    " Consider the following HR diagram:"
   ]
  },
  {
   "cell_type": "markdown",
   "metadata": {},
   "source": [
    "<div>\n",
    "<img src=\"HR_filled.png\" width=\"400\">\n",
    "</div>"
   ]
  },
  {
   "cell_type": "markdown",
   "metadata": {},
   "source": [
    " The $b$ colour is measured through a filter that permits light to pass through if it is within the wavelength range $300\\,\\textrm{nm} \\lesssim \\lambda \\lesssim 650\\,\\textrm{nm}$. The $r$ (``red\") filter allows light in the range $650\\,\\textrm{nm} \\lesssim \\lambda \\lesssim 1000\\,\\textrm{nm}$ to pass through. The $g$ filter covers both ranges."
   ]
  },
  {
   "cell_type": "markdown",
   "metadata": {},
   "source": [
    "__a)__ Which side (the left side or the right side) of the HR diagrams corresponds to bluer stars?"
   ]
  },
  {
   "cell_type": "markdown",
   "metadata": {},
   "source": [
    "## Your answer here\n",
    "The left side of the HR diagrams corresponds to bluer stars. This can be understood by both the diagram and common sense. We know that b-r logorithmic color index tells us that that the value, the more blue the object is, and vice versa. Utilizing our sense of physcics as well, we know that bluer stars are more hotter than redder stars, and so would have higher absolute magnitude. Hence lower the color index, higher the temperature. "
   ]
  },
  {
   "cell_type": "markdown",
   "metadata": {},
   "source": [
    "__b)__ Star $\\#1$ has a $(b-r)$ colour of 3.5, while Star $\\#2$ has a $(b-r)$ colour of 2. Which star has the higher luminosity? What is the ratio of their luminosities?"
   ]
  },
  {
   "cell_type": "markdown",
   "metadata": {},
   "source": [
    "## Your answer here \n",
    "Using the H-R diagram, Star1 has absolute maginute of ~ 10 and Star 2 has absolute magnitude of ~8\n",
    "Star 2 has higher lumonisty, with a ratio Star 2/Star 1 ratio of ~3. EXPLAIN\n",
    "\n",
    "\n",
    "$\\frac{L_2}{L_1} = 100^{\\frac{m_1 - m_2}{5}}$\n",
    "\n",
    "$\\frac{L_2}{L_1} = 100^{\\frac{10 - 8}{5}}$\n",
    "\n",
    "$\\frac{L_2}{L_1} \\approx  6.3$"
   ]
  },
  {
   "cell_type": "markdown",
   "metadata": {},
   "source": [
    "__c)__ Suppose you see a star with an apparent $g$-band magnitude of 8. The star has $(b-r)$ colour of $1$. How far away is this star?"
   ]
  },
  {
   "cell_type": "markdown",
   "metadata": {},
   "source": [
    "## Your answer here\n",
    "\n",
    "$100^{(m-M)/5}= (\\frac{d}{10})^{2}$\n",
    "\n",
    "Where m= 8, and using the HR diagram, M = 5\n",
    "\n",
    "We get d = 39.81 pc\n",
    " \n"
   ]
  },
  {
   "cell_type": "markdown",
   "metadata": {},
   "source": [
    "__d)__ In the previous part, were you computing an angular diameter distance or a luminosity distance? Suppose you had computed the other one instead. Would the answer have been very similar, or would it have been quite different?\n"
   ]
  },
  {
   "cell_type": "markdown",
   "metadata": {},
   "source": [
    "## Your answer here\n",
    "We computed the luminosty distance. As we found out in Coding Lab 2, given in the cell below, at ~40 pc the redshift is insignificant, and the luminiosity distnace does not differ much with the angular diameter distance. \n"
   ]
  },
  {
   "cell_type": "code",
   "execution_count": 1,
   "metadata": {},
   "outputs": [
    {
     "data": {
      "text/plain": [
       "Text(0.5, 1.0, 'Luminosity Distance')"
      ]
     },
     "execution_count": 1,
     "metadata": {},
     "output_type": "execute_result"
    },
    {
     "data": {
      "image/png": "[encoded data removed]",
      "text/plain": [
       "<Figure size 432x288 with 2 Axes>"
      ]
     },
     "metadata": {
      "needs_background": "light"
     },
     "output_type": "display_data"
    }
   ],
   "source": [
    "#CODE TAKEN FROM LAB 02\n",
    "\n",
    "import numpy as np\n",
    "from astropy.cosmology import Planck15\n",
    "import matplotlib.pyplot as plt\n",
    "\n",
    "\n",
    "shift = np.linspace(0,10,100)\n",
    "D_A = Planck15.angular_diameter_distance(shift)\n",
    "D_L = D_A*(1+shift)**2\n",
    "\n",
    "\n",
    "plotfig, (ax1, ax2) = plt.subplots(1,2)\n",
    "plt.subplots_adjust(left=0.125, bottom=0.1, right=2.2, top=0.9, wspace=0.2, hspace=0.2)\n",
    "\n",
    "\n",
    "ax1.plot(shift,D_A)\n",
    "ax1.set(xlabel='Red Shift', ylabel='Distance (Mpc)')\n",
    "ax1.set_title('Angular Diameter Distance')\n",
    "\n",
    "ax2.plot(shift,D_L)\n",
    "ax2.set(xlabel='Red Shift', ylabel='Distance (Mpc)')\n",
    "ax2.set_title('Luminosity Distance')"
   ]
  },
  {
   "cell_type": "markdown",
   "metadata": {},
   "source": [
    "__e)__ What is the redshift at which an object's angular diameter distance and its luminosity distance differ by $10\\%$? How old was our Universe when it emitted the light that we see today? How much smaller or larger was the universe back then compared to now?"
   ]
  },
  {
   "cell_type": "code",
   "execution_count": 2,
   "metadata": {},
   "outputs": [
    {
     "name": "stdout",
     "output_type": "stream",
     "text": [
      "redshift = 0.05409255338945984\n",
      "Age of universe = 13.04674896378938 Gyr\n",
      "Universe was 5.131670194948623 smaller\n"
     ]
    }
   ],
   "source": [
    "## Your answer here\n",
    "#Taking ratio of luminosity distance and angular diameter \n",
    "R = 10/9\n",
    "#from Coding Lab 2 we have:\n",
    "z = np.sqrt(R) -1\n",
    "ageUniverse = Planck15.age(z)\n",
    "a = 1/((1+z))\n",
    "diff = (1-a)*100\n",
    "\n",
    "print(\"redshift = \" + str(z))\n",
    "print(\"Age of universe = \" + str(ageUniverse))\n",
    "print(\"Universe was \" +str(diff) + \" smaller\")"
   ]
  },
  {
   "cell_type": "markdown",
   "metadata": {},
   "source": [
    "## Question 4"
   ]
  },
  {
   "cell_type": "markdown",
   "metadata": {},
   "source": [
    "You and your friends are on holiday in southern California, where it doesn’t rain very much: 5 out of 365 days per year. You want to go to the beach tomorrow. Unfortunately, the weather forecast says that it will rain tomorrow. When it actually rains, the forecast is correct 90\\% of the time. When it doesn’t, there is a 10\\% chance that rain is incorrectly predicted by the forecast. What is the probability that it will rain tomorrow, knowing what the weather forecast says?"
   ]
  },
  {
   "cell_type": "markdown",
   "metadata": {},
   "source": [
    "# Your answer here\n",
    "Rains = R,\n",
    "Not Rains = NR,\n",
    "Forecast says it rains = FR,\n",
    "Forecast says it doesnt rain  = FNR,\n",
    "\n",
    "\n",
    "$P(R|FR) = \\frac{P(FR|R)P(R)}{P(FR|R)P(R) + P(FR|NR)P(NR)}$\n",
    "\n",
    "$P(R|FR) = \\frac{\\frac{9}{10}\\frac{5}{365}}{\\frac{9}{10}\\frac{5}{365} +  \\frac{1}{10}\\frac{360}{365}}$\n",
    "\n",
    "$P(R|FR) \\approx 11.1$\n"
   ]
  },
  {
   "cell_type": "markdown",
   "metadata": {},
   "source": [
    "## Question 5"
   ]
  },
  {
   "cell_type": "markdown",
   "metadata": {},
   "source": [
    "The probability distribution for the speed $v$ of a particle in an ideal gas is given by the _Maxwell-Boltzmann_ distribution:\n",
    "\n",
    "\\begin{equation}\n",
    "4 \\pi \\left(\\frac{m}{2 \\pi k_b T} \\right)^{3/2}  v^2 \\exp \\left( \\frac{-mv^2}{2 k_b T} \\right),\n",
    "\\end{equation}\n",
    "\n",
    "where $k_b$ is Boltzmann's constant, $m$ is the mass of an atom in the gas, and $T$ is the temperature. You can integrate this to confirm that it's correctly normalized if you like! (Incidentally, the wikipedia page on the Maxwell-Boltzmann distribution contains some typos, and a bunch of their expressions are incorrect)."
   ]
  },
  {
   "cell_type": "markdown",
   "metadata": {},
   "source": [
    "__a)__ Suppose we have an ideal gas in the lab. Let's assume that we know what type of gas we have, so the mass is known. To simplify matters, work in units where $m / k_b = 1$. You go into the lab and you make _one_ measurement of velocity (i.e., you measure the speed of _one_ atom). You get $v = 20$ (in our weird units).\n",
    "\n",
    "You'd like to know the temperature of the gas. Prof. Mxyptlk says \"the temperature measures the _average_ kinetic energy of a particle; therefore, with just a single speed measurement we can't know anything about the temperature\". Prove Prof. Mxyptlk wrong by inferring what you can about $T$, the temperature of the gas."
   ]
  },
  {
   "cell_type": "markdown",
   "metadata": {},
   "source": [
    "## Your answer here\n",
    "Using the concepts of Bayesian inference, we can make a prior on the temperature, since we know that it is always > 0K. \n",
    "\n",
    "We know for an ideal gas,\n",
    "\n",
    "$K.E = \\frac{3k_BT}{2}$\n",
    "\n",
    "$\\frac{mv^{2}}{2} = \\frac{3k_BT}{2}$\n",
    "\n",
    "For v =20, we find T $\\approx$ 133.3 and hence take the pdf of T as a Gaussian centered at 133.3\n",
    "\n",
    "Hence the Prof is wrong, and we do have a distribution of T with a single measurement. \n"
   ]
  },
  {
   "cell_type": "markdown",
   "metadata": {},
   "source": [
    "__b)__ What is the 95\\% credibility region for your inferred $T$?"
   ]
  },
  {
   "cell_type": "markdown",
   "metadata": {},
   "source": [
    "## Your answer here\n",
    "mean = 133.3\n",
    "lowest value = 0\n",
    "\n",
    "$f(x) = \\frac{1}{\\sigma \\sqrt{2\\pi}} e^{\\frac{(\\mu -x)^{2}}{2 \\mu^{2}}}$\n",
    "\n",
    "$f(0) = \\frac{1}{\\sigma \\sqrt{2\\pi}} e^{\\frac{1}{2}}$\n",
    "\n",
    "\n",
    "$\\int_ { -\\infty}^0 \\!     f(x) \\, \\mathrm{d}x.$\n"
   ]
  },
  {
   "cell_type": "markdown",
   "metadata": {},
   "source": [
    "__c)__ You take a few more measurements: $v=(30, 28.5, 18, 15, 20, 20)$. Update your knowledge of $T$, stating your assumptions."
   ]
  },
  {
   "cell_type": "code",
   "execution_count": 3,
   "metadata": {},
   "outputs": [],
   "source": [
    "## Your answer here"
   ]
  },
  {
   "cell_type": "markdown",
   "metadata": {},
   "source": [
    "__d)__ Prof. Mxyptlk says \"ok, ok, but you had to know the mass of the gas. If you didn't know $m$ separately and had to infer $m$ and $T$ simultaneously, you wouldn't get a nice well-defined peak in your probability distribution for $v$. You'd basically find that any value of $T$ is possible.\" Do you agree with Prof. Mxyptlk?\n",
    "\n",
    "* If you agree, explain why and give an example of a probability distribution where reasonable simultaneous constraints on $v$ and $T$ are still possible (i.e., imagine you have the ability to modify the laws of nature to slightly modify the Maxwell-Boltzmann distribution).\n",
    "* If you disagree, explain why Prof. Mxyptlk is incorrect.\n"
   ]
  },
  {
   "cell_type": "code",
   "execution_count": 4,
   "metadata": {},
   "outputs": [],
   "source": [
    "## Your answer here\n"
   ]
  },
  {
   "cell_type": "markdown",
   "metadata": {},
   "source": [
    "## Question 6"
   ]
  },
  {
   "cell_type": "markdown",
   "metadata": {},
   "source": [
    "Kevin likes dumplings. He goes to inspect a dumpling factory, where they claim that the length of their dumplings $L$ is Gaussian distributed with mean $4\\,\\textrm{cm}$ and a standard deviation of $1\\,\\textrm{cm}$. Kevin randomly selects $10$ dumplings and measures their lengths, obtaining\n",
    "\n",
    "$L = (5.61, 2.22, 3.11, 6.01, 4.79, 3.70, 2.67, 3.90, 3.86, 3.48)\\,\\textrm{cm}$\n",
    "\n"
   ]
  },
  {
   "cell_type": "markdown",
   "metadata": {},
   "source": [
    "__a)__ Use Bayesian inference to infer the posterior distribution for the mean and standard deviation of dumpling size at this factory. Display your results graphically."
   ]
  },
  {
   "cell_type": "code",
   "execution_count": 36,
   "metadata": {},
   "outputs": [
    {
     "data": {
      "image/png": "[encoded data removed]",
      "text/plain": [
       "<Figure size 432x288 with 1 Axes>"
      ]
     },
     "metadata": {
      "needs_background": "light"
     },
     "output_type": "display_data"
    }
   ],
   "source": [
    "## Your answer here\n",
    "## Your answer here\n",
    "import numpy as np\n",
    "#%pylab inline\n",
    "import matplotlib.pyplot as plt\n",
    "#Factory's claim\n",
    "mean = 4 \n",
    "std = 1 \n",
    "#Taking the end points of the 99% credible interval\n",
    "max_x = mean + 3*std \n",
    "min_x = mean - 3*std \n",
    "x = np.linspace(min_x,max_x,100)\n",
    "index = np.argsort(x)\n",
    "#Kevin's sample\n",
    "sample = np.array((5.61 , 2.22, 3.11, 6.01, 4.79, 3.70, 2.67, 3.90, 3.86, 3.48)) # Kevin's sample\n",
    "\n",
    "#Prior\n",
    "prior = []\n",
    "for i in x: \n",
    "    A = (np.exp(-1 * ((i-mean)**2)/(2*std**2)))/np.sqrt(2*np.pi*std**2)\n",
    "    prior.append(A) \n",
    "    \n",
    "#Likelihod\n",
    "likelihood = []\n",
    "for i in x:\n",
    "    A = (np.exp(-1 * ((i-np.mean(sample))**2)/(2*np.std(sample)**2)))/np.sqrt(2*np.pi*np.std(sample)**2)\n",
    "    likelihood.append(A)\n",
    "\n",
    "#Posterior\n",
    "posterior = []\n",
    "for j in range(len(prior)):\n",
    "    posterior.append(likelihood[j]*prior[j])\n",
    "posterior = np.array(posterior)\n",
    "\n",
    "prior = np.array(prior)\n",
    "likelihood = np.array(likelihood)\n",
    "\n",
    "#normalizing\n",
    "posterior = posterior/(sum(posterior*(x[1]-x[0])))\n",
    "prior = prior/(sum(prior*(x[1]-x[0])))\n",
    "likelihood = likelihood/(sum(likelihood*(x[1]-x[0])))\n",
    "    \n",
    "    \n",
    "\n",
    "#likelihood\n",
    "plt.plot(x[index],likelihood[index],c='r', label = 'likelihood')\n",
    "#Prior\n",
    "plt.plot(x[index],prior_data[index],c='b', label = 'prior')\n",
    "#posterior\n",
    "plt.plot(x[index],posterior[index],c='g', label = 'posterior')\n",
    "\n",
    "plt.xlabel('Dumpling Size (cm)')\n",
    "plt.title('Posterior Distribution, with the Prior and Likelihood')\n",
    "plt.ylabel(r'$P(Size | x_1,...,x_{10})$')\n",
    "plt.legend()\n",
    "plt.show()"
   ]
  },
  {
   "cell_type": "markdown",
   "metadata": {},
   "source": [
    "__b)__ What Kevin really cares about is consistency. It doesn't really matter to him whether the dumplings are big or small. What's unacceptable to him is a standard deviation that's larger than $1\\,\\textrm{cm}$. Should Kevin be worried? Make your argument in a quantitative manner."
   ]
  },
  {
   "cell_type": "code",
   "execution_count": 45,
   "metadata": {},
   "outputs": [
    {
     "name": "stdout",
     "output_type": "stream",
     "text": [
      "0.18535519968783662\n"
     ]
    }
   ],
   "source": [
    "## Your answer here\n",
    "dev = np.std(posterior)\n",
    "print(dev)\n",
    "#We see here is that the std dev of the posteriror is well within 1 cm, hence Keving should not be worried. We also know that 99% of the data is contained within\n",
    "# std devs, i.e 0.556. "
   ]
  },
  {
   "cell_type": "markdown",
   "metadata": {},
   "source": [
    "## Ungraded question"
   ]
  },
  {
   "cell_type": "markdown",
   "metadata": {},
   "source": [
    "I would like to tailor the last part of the course to your interests. Please fill out [this](https://forms.gle/BFJMx8HEnfQjjbuC9) anonymous survey to help me with that. This is not a graded part of your midterm, but now is just a convenient time to do it."
   ]
  },
  {
   "cell_type": "markdown",
   "metadata": {},
   "source": [
    "## Submission"
   ]
  },
  {
   "cell_type": "markdown",
   "metadata": {},
   "source": [
    "You're done! Do a final git commit, taking care to include everything relevant (e.g., if you have any embedded images). If you decide to revise your answers before the deadline, no problem---just make the changes you want to make and resubmit your work. Push your work to your repo."
   ]
  },
  {
   "cell_type": "code",
   "execution_count": null,
   "metadata": {},
   "outputs": [],
   "source": []
  }
 ],
 "metadata": {
  "kernelspec": {
   "display_name": "Python 3",
   "language": "python",
   "name": "python3"
  },
  "language_info": {
   "codemirror_mode": {
    "name": "ipython",
    "version": 3
   },
   "file_extension": ".py",
   "mimetype": "text/x-python",
   "name": "python",
   "nbconvert_exporter": "python",
   "pygments_lexer": "ipython3",
   "version": "3.7.3"
  }
 },
 "nbformat": 4,
 "nbformat_minor": 4
}
